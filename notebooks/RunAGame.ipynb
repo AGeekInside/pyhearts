{
 "metadata": {
  "name": "",
  "signature": "sha256:6b9bba836f89e453c43c48fdb21fe17d883d8fb87b09e6ff826d5a2331fff513"
 },
 "nbformat": 3,
 "nbformat_minor": 0,
 "worksheets": [
  {
   "cells": [
    {
     "cell_type": "markdown",
     "metadata": {},
     "source": [
      "Running a hearts game\n",
      "=====================\n",
      "1. Create game objects (state, players, etc.)\n",
      "2. Run the game\n",
      "3. Output the results"
     ]
    },
    {
     "cell_type": "code",
     "collapsed": false,
     "input": [],
     "language": "python",
     "metadata": {},
     "outputs": [],
     "prompt_number": 2
    },
    {
     "cell_type": "code",
     "collapsed": false,
     "input": [],
     "language": "python",
     "metadata": {},
     "outputs": []
    }
   ],
   "metadata": {}
  }
 ]
}